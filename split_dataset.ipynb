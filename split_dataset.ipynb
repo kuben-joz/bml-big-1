{
 "cells": [
  {
   "cell_type": "code",
   "execution_count": 1,
   "metadata": {},
   "outputs": [],
   "source": [
    "import re\n",
    "from collections import defaultdict\n",
    "\n",
    "import numpy as np\n",
    "from numpy.dtypes import StringDType\n",
    "\n",
    "word_filter_re = re.compile(r\"[a-zA-Z]+\")\n",
    "line_split_re = re.compile(r\"^(.*),(\\d+)$\", re.DOTALL)"
   ]
  },
  {
   "cell_type": "code",
   "execution_count": 2,
   "metadata": {},
   "outputs": [],
   "source": [
    "fn = \"data/amazon_reviews_2M.csv\"\n",
    "# fn = \"test.csv\"\n",
    "num_rows = 20\n",
    "num_procs = 4"
   ]
  },
  {
   "cell_type": "code",
   "execution_count": 3,
   "metadata": {},
   "outputs": [],
   "source": [
    "out_files = [open(f\"data/{i}.csv\", \"w\") for i in range(num_procs)]\n",
    "out_files.append(open(\"data/all.csv\", 'w'))\n",
    "num_tot = num_rows * num_procs\n",
    "max_word = 0\n",
    "with open(fn, \"r\") as f:\n",
    "    for i, line in enumerate(f):\n",
    "        if i >= num_tot:\n",
    "            break\n",
    "        out_files[i % num_procs].write(line)\n",
    "        out_files[-1].write(line)\n",
    "\n",
    "\n",
    "for f in out_files:\n",
    "    f.close()"
   ]
  }
 ],
 "metadata": {
  "kernelspec": {
   "display_name": "bml",
   "language": "python",
   "name": "python3"
  },
  "language_info": {
   "codemirror_mode": {
    "name": "ipython",
    "version": 3
   },
   "file_extension": ".py",
   "mimetype": "text/x-python",
   "name": "python",
   "nbconvert_exporter": "python",
   "pygments_lexer": "ipython3",
   "version": "3.12.8"
  }
 },
 "nbformat": 4,
 "nbformat_minor": 2
}
