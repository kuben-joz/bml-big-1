{
 "cells": [
  {
   "cell_type": "code",
   "execution_count": 14,
   "metadata": {},
   "outputs": [
    {
     "name": "stdout",
     "output_type": "stream",
     "text": [
      "['not' 'size' 'to' 'true' 'a' 'addictingly' 'amazing' 'an' 'and' 'anymore'\n",
      " 'are' 'book' 'buy' 'can' 'delicious' 'don' 'eat' 'flavor' 'for' 'get'\n",
      " 'gets' 'give' 'good' 'i' 'in' 'let' 'like' 'me' 'mean' 'my' 'of' 'one'\n",
      " 'pack' 'peanuts' 'purchased' 'sitting' 'smoked' 'so' 'stars' 't' 'the'\n",
      " 'them' 'they' 'think' 'too' 'try' 'unfortunately' 'whole' 'willpower'\n",
      " 'acting' 'br' 'episode' 'every' 'got' 'great' 'historical' 'it' 'mystery'\n",
      " 'new' 'right' 'science' 'touch' 'tv' 'with' 'writing' 'biting' 'blow'\n",
      " 'but' 'dark' 'deception' 'ending' 'even' 'figured' 'full' 'going' 'had'\n",
      " 'happen' 'haven' 'if' 'many' 'mind' 'moments' 'nail' 'only' 'out'\n",
      " 'promise' 'revenge' 's' 'secrets' 'simply' 'tense' 'this' 'turns'\n",
      " 'twists' 've' 'was' 'what' 'will' 'wow' 'you' 'your']\n",
      "[ 0  1  2  3  4  5  6  7  8  9 10 11 12 13 14]\n",
      "['a' 'and' 'book' 'good' 'i' 'in' 'it' 'not' 'of' 'so' 't' 'the' 'they'\n",
      " 'think' 'to']\n",
      "['a' 'and' 'book' 'good' 'i' 'in' 'it' 'not' 'of' 'so' 't' 'the' 'they'\n",
      " 'think' 'to']\n",
      "0 a\n",
      "1 and\n",
      "2 book\n",
      "3 good\n",
      "4 i\n",
      "5 in\n",
      "6 it\n",
      "7 not\n",
      "8 of\n",
      "9 so\n",
      "10 t\n",
      "11 the\n",
      "12 they\n",
      "13 think\n",
      "14 to\n"
     ]
    }
   ],
   "source": [
    "import re\n",
    "from collections import defaultdict\n",
    "\n",
    "import numpy as np\n",
    "from numpy.dtypes import StringDType\n",
    "from scipy.sparse import csr_array\n",
    "\n",
    "fn = \"data/amazon_reviews_2M.csv\"\n",
    "fn = \"data/all.csv\"\n",
    "word_filter_re = re.compile(r\"[a-zA-Z]+\")\n",
    "line_split_re = re.compile(r\"^(.*),(\\d+)$\", re.DOTALL)\n",
    "\n",
    "words_to_counts = defaultdict(lambda: defaultdict(lambda: 0))\n",
    "labels = defaultdict(lambda: 0)\n",
    "max_label = 0\n",
    "with open(fn, \"r\") as f:\n",
    "    for line in f:\n",
    "        text, label = line_split_re.findall(line)[0]\n",
    "        label = int(label)\n",
    "        max_label = max(max_label, label)\n",
    "        text = np.unique(np.fromiter((str.lower(word) for word in word_filter_re.findall(text)), dtype=StringDType()))\n",
    "        labels[label] += 1\n",
    "        for word in text:\n",
    "            words_to_counts[word][label] += 1\n",
    "\n",
    "\n",
    "def get_sum(d):\n",
    "    res = 0\n",
    "    for v in d.values():\n",
    "        res += v\n",
    "    return res > 1\n",
    "\n",
    "\n",
    "num_labels = np.array(max_label + 1, dtype=np.int32)\n",
    "\n",
    "counts = np.fromiter((get_sum(v) for v in words_to_counts.values()), dtype=np.int8)\n",
    "words = np.fromiter(words_to_counts.keys(), dtype=StringDType())\n",
    "words = np.array([*words_to_counts.keys()], dtype=StringDType())\n",
    "print(words)\n",
    "# mpi --------------------------------------------------------------------------------\n",
    "\n",
    "ind = words.argsort()\n",
    "words = words[ind]\n",
    "words_orig = words.copy()\n",
    "counts = counts[ind]\n",
    "\n",
    "# final ---------------------------------------------------------\n",
    "\n",
    "words = words[np.nonzero(counts)]\n",
    "\n",
    "label_counts = np.zeros(num_labels, dtype=np.int32)\n",
    "for label, count in labels.items():\n",
    "    label_counts[label] = count\n",
    "\n",
    "res = np.zeros((num_labels, words.shape[0]))\n",
    "\n",
    "word_locs = np.isin(words, words_orig).nonzero()[0]\n",
    "\n",
    "print(word_locs)\n",
    "print(words)\n",
    "print(words[word_locs])\n",
    "for loc, word in zip(word_locs, words[word_locs]):\n",
    "    print(f\"{loc} {word}\")\n",
    "    for label, count in words_to_counts[word].items():\n",
    "        res[label][loc] = count\n",
    "\n",
    "\n",
    "res_shape = res.shape\n",
    "res = csr_array(res)\n",
    "\n",
    "data_in = np.zeros_like(res).flatten()\n",
    "indices_in = np.zeros_like(data_in)\n",
    "indptr_in = np.zeros_like(res.indptr)\n",
    "\n",
    "bufs_in = [data_in, indices_in, indptr_in]\n",
    "res = res.astype(np.double).toarray()"
   ]
  },
  {
   "cell_type": "code",
   "execution_count": 15,
   "metadata": {},
   "outputs": [],
   "source": [
    "label_counts = label_counts.astype(np.double)[:, np.newaxis]\n",
    "label_zeros = label_counts == 0\n",
    "label_counts[label_zeros] = 1.0\n",
    "\n",
    "res /= label_counts\n",
    "\n",
    "label_counts[label_zeros] = 0.0\n",
    "label_sum = label_counts.sum()\n",
    "label_counts /= label_sum"
   ]
  },
  {
   "cell_type": "code",
   "execution_count": 16,
   "metadata": {},
   "outputs": [
    {
     "name": "stdout",
     "output_type": "stream",
     "text": [
      "[1.   1.   0.   1.   0.   1.   1.   0.   1.   0.   0.   0.   1.   0.\n",
      " 0.   0.25]\n"
     ]
    }
   ],
   "source": [
    "res = np.concatenate((res, label_counts), axis=1)\n",
    "\n",
    "with open(\"out/all.out\", \"w\") as f:\n",
    "    f.write(','.join(words))\n",
    "    f.write('\\n')\n",
    "    np.savetxt(f, res, delimiter=\",\")\n",
    "\n",
    "print(res[13])"
   ]
  }
 ],
 "metadata": {
  "kernelspec": {
   "display_name": "bml",
   "language": "python",
   "name": "python3"
  },
  "language_info": {
   "codemirror_mode": {
    "name": "ipython",
    "version": 3
   },
   "file_extension": ".py",
   "mimetype": "text/x-python",
   "name": "python",
   "nbconvert_exporter": "python",
   "pygments_lexer": "ipython3",
   "version": "3.12.8"
  }
 },
 "nbformat": 4,
 "nbformat_minor": 2
}
