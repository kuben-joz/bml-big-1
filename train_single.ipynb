{
 "cells": [
  {
   "cell_type": "code",
   "execution_count": 5,
   "metadata": {},
   "outputs": [
    {
     "name": "stdout",
     "output_type": "stream",
     "text": [
      "835542\n",
      "3709152\n"
     ]
    }
   ],
   "source": [
    "import re\n",
    "from collections import defaultdict\n",
    "\n",
    "import numpy as np\n",
    "from numpy.dtypes import StringDType\n",
    "from scipy.sparse import csr_array\n",
    "\n",
    "fn = \"data/amazon_reviews_2M.csv\"\n",
    "#fn = \"data/all.csv\"\n",
    "word_filter_re = re.compile(r\"[a-zA-Z]+\")\n",
    "line_split_re = re.compile(r\"^(.*),(\\d+)$\", re.DOTALL)\n",
    "\n",
    "words_to_counts = defaultdict(lambda: [0, defaultdict(lambda: 0)])\n",
    "labels = defaultdict(lambda: 0)\n",
    "max_label = 0\n",
    "with open(fn, \"r\") as f:\n",
    "    for line in f:\n",
    "        text, label = line_split_re.findall(line)[0]\n",
    "        label = int(label)\n",
    "        max_label = max(max_label, label)\n",
    "        text, counts = np.unique(\n",
    "            np.fromiter(\n",
    "                (str.lower(word) for word in word_filter_re.findall(text)),\n",
    "                dtype=StringDType(),\n",
    "            ), return_counts=True\n",
    "        )\n",
    "        labels[label] += 1\n",
    "        for word, count in zip(text, counts):\n",
    "            cur_el = words_to_counts[word]\n",
    "            cur_el[0] += count\n",
    "            cur_el[1][label] += 1\n",
    "\n",
    "\n",
    "num_labels = np.array(max_label + 1, dtype=np.int32)\n",
    "\n",
    "label_counts = np.zeros(num_labels, dtype=np.int32)\n",
    "for label, count in labels.items():\n",
    "    label_counts[label] = count\n",
    "\n",
    "world_size = 1\n",
    "rank = 0\n",
    "\n",
    "mod = 8\n",
    "bit_type = np.uint8\n",
    "bit_len = (world_size + 1 + 7) // 8\n",
    "dict_len = len(words_to_counts)\n",
    "rank_bit = np.zeros(bit_len, dtype=bit_type)\n",
    "rank_bit[rank // mod] = 1 << (rank % mod)\n",
    "world_bit = rank_bit.copy()\n",
    "world_bit[world_size // mod] |= 1 << (world_size % mod)\n",
    "\n",
    "counts = np.fromiter(\n",
    "    (world_bit if v[0] > 1 else rank_bit for v in words_to_counts.values()),\n",
    "    dtype=np.dtype((bit_type, bit_len)),\n",
    "    count=dict_len,\n",
    ")\n",
    "words = np.fromiter(words_to_counts.keys(), dtype=StringDType(), count=dict_len)\n",
    "# mpi --------------------------------------------------------------------------------\n",
    "\n",
    "ind = words.argsort()\n",
    "words = words[ind]\n",
    "words_orig = words.copy()\n",
    "counts = counts[ind]\n",
    "\n",
    "# final ---------------------------------------------------------\n",
    "counts = np.bitwise_count(counts)\n",
    "# this should upcast automatically\n",
    "counts = np.add.reduce(counts, axis=1) > 1\n",
    "words = words[np.nonzero(counts)]\n",
    "\n",
    "label_counts = np.zeros(num_labels, dtype=np.int32)\n",
    "for label, count in labels.items():\n",
    "    label_counts[label] = count\n",
    "\n",
    "res = np.zeros((num_labels, words.shape[0]))\n",
    "\n",
    "word_locs = np.isin(words, words_orig).nonzero()[0]\n",
    "\n",
    "for loc, word in zip(word_locs, words[word_locs]):\n",
    "    for label, count in words_to_counts[word][1].items():\n",
    "        res[label][loc] = count\n",
    "\n",
    "\n",
    "print(np.flatnonzero(res).size)\n",
    "print(res.size)\n",
    "res_shape = res.shape\n"
   ]
  },
  {
   "cell_type": "code",
   "execution_count": 2,
   "metadata": {},
   "outputs": [],
   "source": [
    "res = csr_array(res)\n",
    "res = res.astype(np.double).toarray()"
   ]
  },
  {
   "cell_type": "code",
   "execution_count": 3,
   "metadata": {},
   "outputs": [],
   "source": [
    "label_counts = label_counts.astype(np.double)[:, np.newaxis]\n",
    "label_zeros = label_counts == 0\n",
    "label_counts[label_zeros] = 1.0\n",
    "\n",
    "res /= label_counts\n",
    "\n",
    "label_counts[label_zeros] = 0.0\n",
    "label_sum = label_counts.sum()\n",
    "label_counts /= label_sum"
   ]
  },
  {
   "cell_type": "code",
   "execution_count": 4,
   "metadata": {},
   "outputs": [],
   "source": [
    "res = np.concatenate((res, label_counts), axis=1)\n",
    "\n",
    "with open(\"out/all.out\", \"w\") as f:\n",
    "    f.write(','.join(words))\n",
    "    f.write('\\n')\n",
    "    np.savetxt(f, res, delimiter=\",\")"
   ]
  }
 ],
 "metadata": {
  "kernelspec": {
   "display_name": "bml",
   "language": "python",
   "name": "python3"
  },
  "language_info": {
   "codemirror_mode": {
    "name": "ipython",
    "version": 3
   },
   "file_extension": ".py",
   "mimetype": "text/x-python",
   "name": "python",
   "nbconvert_exporter": "python",
   "pygments_lexer": "ipython3",
   "version": "3.12.8"
  }
 },
 "nbformat": 4,
 "nbformat_minor": 2
}
