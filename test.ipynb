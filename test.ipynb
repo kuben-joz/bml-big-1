{
 "cells": [
  {
   "cell_type": "code",
   "execution_count": null,
   "metadata": {},
   "outputs": [
    {
     "data": {
      "text/plain": [
       "np.int64(135)"
      ]
     },
     "execution_count": 61,
     "metadata": {},
     "output_type": "execute_result"
    }
   ],
   "source": [
    "import re\n",
    "from collections import defaultdict\n",
    "\n",
    "import numpy as np\n",
    "from mpi4py import MPI\n",
    "from numpy.dtypes import StringDType\n",
    "\n",
    "comm = MPI.COMM_WORLD\n",
    "rank = comm.Get_rank()\n",
    "world_size = comm.Get_size()\n",
    "\n",
    "fn = \"amazon_reviews_2M.csv\"\n",
    "#fn = \"test.csv\"\n",
    "\n",
    "word_filter_re = re.compile(r\"[a-zA-Z]+\")\n",
    "line_split_re = re.compile(r\"^(.*),(\\d+)$\", re.DOTALL)\n",
    "\n",
    "words = defaultdict(lambda: defaultdict(lambda: 0))\n",
    "max_label = 0\n",
    "with open(fn, \"r\") as f:\n",
    "    for line in f:\n",
    "        text, label = line_split_re.findall(line)[0]\n",
    "        label = int(label)\n",
    "        max_label = max(max_label, label)\n",
    "        text = [str.lower(word) for word in word_filter_re.findall(text)]\n",
    "        for word in text:\n",
    "            words[word][label] += 1\n",
    "\n",
    "num_labels = np.array(max_label + 1, dtype=np.int32)\n",
    "\n",
    "\n",
    "def get_sum(d):\n",
    "    res = 0\n",
    "    for v in d.values():\n",
    "        res += v\n",
    "    return res\n",
    "\n",
    "counts = np.fromiter((get_sum(v) for v in words.values()), dtype=np.int32)\n",
    "words = np.fromiter(words.keys(), dtype=StringDType())\n",
    "np.sum(counts > 1)"
   ]
  },
  {
   "cell_type": "code",
   "execution_count": 62,
   "metadata": {},
   "outputs": [
    {
     "data": {
      "text/plain": [
       "array([1., 2.])"
      ]
     },
     "execution_count": 62,
     "metadata": {},
     "output_type": "execute_result"
    }
   ],
   "source": [
    "import numpy as np\n",
    "\n",
    "arr = np.zeros(2)\n",
    "arr[:] = [1,2]\n",
    "arr"
   ]
  }
 ],
 "metadata": {
  "kernelspec": {
   "display_name": "bml",
   "language": "python",
   "name": "python3"
  },
  "language_info": {
   "codemirror_mode": {
    "name": "ipython",
    "version": 3
   },
   "file_extension": ".py",
   "mimetype": "text/x-python",
   "name": "python",
   "nbconvert_exporter": "python",
   "pygments_lexer": "ipython3",
   "version": "3.12.8"
  }
 },
 "nbformat": 4,
 "nbformat_minor": 2
}
