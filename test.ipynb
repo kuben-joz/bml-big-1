{
 "cells": [
  {
   "cell_type": "code",
   "execution_count": 9,
   "metadata": {},
   "outputs": [
    {
     "name": "stdout",
     "output_type": "stream",
     "text": [
      "2435\n",
      "2435\n"
     ]
    }
   ],
   "source": [
    "import re\n",
    "from collections import defaultdict\n",
    "\n",
    "import numpy as np\n",
    "from numpy.dtypes import StringDType, BytesDType\n",
    "\n",
    "fn = \"amazon_reviews_2M.csv\"\n",
    "fn = \"test.csv\"\n",
    "\n",
    "word_filter_re = re.compile(r\"[a-zA-Z]+\")\n",
    "line_split_re = re.compile(r\"^(.*),(\\d+)$\", re.DOTALL)\n",
    "# todo\n",
    "# feature selection , mutual info https://nlp.stanford.edu/IR-book/html/htmledition/mutual-information-1.html\n",
    "#\n",
    "words = defaultdict(lambda: 0)\n",
    "max_word = 0\n",
    "with open(fn, \"r\") as f:\n",
    "    for line in f:\n",
    "        text, label = line_split_re.findall(line)[0]\n",
    "        label = int(label)\n",
    "        text = [str.lower(word) for word in word_filter_re.findall(text)]\n",
    "        for word in text:\n",
    "            max_word = max(max_word, len(word))\n",
    "            words[word] += 1\n",
    "\n",
    "\n",
    "words[''] # spare cell for array length to send\n",
    "counts = np.array([*words.values()], dtype=np.int32)\n",
    "words = np.array([*words.keys()])\n",
    "\n",
    "ind = words.argsort()\n",
    "words = words[ind]\n",
    "counts = counts[ind]\n",
    "words = ','.join(words[1:])\n",
    "words_b = bytearray(words, 'utf-8')\n",
    "print(len(words))\n",
    "print(len(words_b))\n"
   ]
  }
 ],
 "metadata": {
  "kernelspec": {
   "display_name": "bml",
   "language": "python",
   "name": "python3"
  },
  "language_info": {
   "codemirror_mode": {
    "name": "ipython",
    "version": 3
   },
   "file_extension": ".py",
   "mimetype": "text/x-python",
   "name": "python",
   "nbconvert_exporter": "python",
   "pygments_lexer": "ipython3",
   "version": "3.12.8"
  }
 },
 "nbformat": 4,
 "nbformat_minor": 2
}
